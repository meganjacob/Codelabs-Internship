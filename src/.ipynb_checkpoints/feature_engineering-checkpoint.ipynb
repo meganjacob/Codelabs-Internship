{
 "cells": [
  {
   "cell_type": "code",
   "execution_count": 1,
   "metadata": {},
   "outputs": [],
   "source": [
    "import pandas as pd\n",
    "import dask.dataframe as dd\n",
    "import numpy as np"
   ]
  },
  {
   "cell_type": "code",
   "execution_count": 2,
   "metadata": {},
   "outputs": [],
   "source": [
    "pandas_df = pd.read_pickle(\"./raw_weekly_df.pkl\")\n",
    "dask_df = dd.from_pandas(pandas_df, npartitions=8)"
   ]
  },
  {
   "cell_type": "code",
   "execution_count": 3,
   "metadata": {},
   "outputs": [
    {
     "name": "stdout",
     "output_type": "stream",
     "text": [
      "   dept_id cat_id      item_id state_id store_id   datetime  sales\n",
      "0  FOODS_1  FOODS  FOODS_1_001       CA     CA_1 2011-01-31    3.0\n",
      "1  FOODS_1  FOODS  FOODS_1_001       CA     CA_1 2011-02-07    9.0\n",
      "2  FOODS_1  FOODS  FOODS_1_001       CA     CA_1 2011-02-14    9.0\n",
      "3  FOODS_1  FOODS  FOODS_1_001       CA     CA_1 2011-02-21    8.0\n",
      "4  FOODS_1  FOODS  FOODS_1_001       CA     CA_1 2011-02-28   14.0\n"
     ]
    }
   ],
   "source": [
    "print(pandas_df.head())"
   ]
  },
  {
   "cell_type": "code",
   "execution_count": 5,
   "metadata": {},
   "outputs": [],
   "source": [
    "def standardize(a):\n",
    "  astd = np.std(a)\n",
    "  mean = a.mean()\n",
    "  b = a.copy()\n",
    "  b -= b.mean()\n",
    "  b /= astd\n",
    "  return b,mean,astd"
   ]
  },
  {
   "cell_type": "code",
   "execution_count": 6,
   "metadata": {},
   "outputs": [],
   "source": [
    "#Unstandarizes a series, given it's mean and std.\n",
    "def unstandardize(a,mean,astd):\n",
    "    a = a*astd\n",
    "    a = a + mean\n",
    "    return a"
   ]
  },
  {
   "cell_type": "code",
   "execution_count": 7,
   "metadata": {},
   "outputs": [
    {
     "name": "stdout",
     "output_type": "stream",
     "text": [
      "0     3.0\n",
      "1     9.0\n",
      "2     9.0\n",
      "3     8.0\n",
      "4    14.0\n",
      "Name: sales, dtype: float32\n"
     ]
    }
   ],
   "source": [
    "print(pandas_df['sales'].head())"
   ]
  },
  {
   "cell_type": "code",
   "execution_count": 8,
   "metadata": {},
   "outputs": [
    {
     "name": "stdout",
     "output_type": "stream",
     "text": [
      "0         -0.259046\n",
      "1         -0.020909\n",
      "2         -0.020909\n",
      "3         -0.060599\n",
      "4          0.177539\n",
      "             ...   \n",
      "6841116   -0.378115\n",
      "6841117   -0.378115\n",
      "6841118   -0.378115\n",
      "6841119   -0.378115\n",
      "6841120   -0.378115\n",
      "Name: sales, Length: 6841121, dtype: float32\n",
      "9.526814460754395\n",
      "25.195552825927734\n"
     ]
    }
   ],
   "source": [
    "b,mean,astd = standardize(pandas_df['sales'])\n",
    "print(b)\n",
    "print(mean)\n",
    "print(astd)"
   ]
  },
  {
   "cell_type": "code",
   "execution_count": 9,
   "metadata": {},
   "outputs": [
    {
     "name": "stdout",
     "output_type": "stream",
     "text": [
      "0     3.0\n",
      "1     9.0\n",
      "2     9.0\n",
      "3     8.0\n",
      "4    14.0\n",
      "Name: sales, dtype: float32\n"
     ]
    }
   ],
   "source": [
    "print(unstandardize(b,mean,astd).head())"
   ]
  },
  {
   "cell_type": "code",
   "execution_count": 17,
   "metadata": {},
   "outputs": [],
   "source": [
    "def stat_feature(df1,grouping,col):\n",
    "    df = df1.copy()\n",
    "    mean = df.groupby([grouping])[col].mean()\n",
    "    mi = df.groupby([grouping])[col].min()\n",
    "    ma = df.groupby([grouping])[col].max()\n",
    "    return mean, mi, ma"
   ]
  },
  {
   "cell_type": "code",
   "execution_count": 18,
   "metadata": {},
   "outputs": [],
   "source": [
    "def agg_feature(df1,grouping,col):\n",
    "    df = df1.copy()\n",
    "    return df.groupby([grouping])[col].cumsum()"
   ]
  },
  {
   "cell_type": "code",
   "execution_count": 19,
   "metadata": {},
   "outputs": [
    {
     "name": "stdout",
     "output_type": "stream",
     "text": [
      "(state_id\n",
      "CA    10.585984\n",
      "TX     9.033415\n",
      "WI     8.882002\n",
      "Name: sales, dtype: float32, state_id\n",
      "CA    0.0\n",
      "TX    0.0\n",
      "WI    0.0\n",
      "Name: sales, dtype: float32, state_id\n",
      "CA    4220.000488\n",
      "TX    1871.000122\n",
      "WI    1755.000122\n",
      "Name: sales, dtype: float32)\n",
      "0                 3.0\n",
      "1                12.0\n",
      "2                21.0\n",
      "3                29.0\n",
      "4                43.0\n",
      "              ...    \n",
      "6841116    18120856.0\n",
      "6841117    18120856.0\n",
      "6841118    18120856.0\n",
      "6841119    18120856.0\n",
      "6841120    18120856.0\n",
      "Name: sales, Length: 6841121, dtype: float32\n"
     ]
    }
   ],
   "source": [
    "print(stat_feature(pandas_df,'state_id','sales'))\n",
    "print(agg_feature(pandas_df,'state_id','sales'))"
   ]
  },
  {
   "cell_type": "code",
   "execution_count": 22,
   "metadata": {},
   "outputs": [],
   "source": [
    "def detrend_feature(df1,grouping,col):\n",
    "    df = df1.copy()\n",
    "    series = df[col]\n",
    "    X = series.values\n",
    "    diff = list()\n",
    "    diff.append(np.nan)\n",
    "    for i in range(1, len(X)):\n",
    "        value = X[i] - X[i - 1]\n",
    "        diff.append(value)\n",
    "    return pd.series(diff)"
   ]
  },
  {
   "cell_type": "code",
   "execution_count": null,
   "metadata": {},
   "outputs": [],
   "source": [
    "print(detrend_feature(pandas_df,'state_id','sales'))"
   ]
  }
 ],
 "metadata": {
  "kernelspec": {
   "display_name": "Python 3",
   "language": "python",
   "name": "python3"
  },
  "language_info": {
   "codemirror_mode": {
    "name": "ipython",
    "version": 3
   },
   "file_extension": ".py",
   "mimetype": "text/x-python",
   "name": "python",
   "nbconvert_exporter": "python",
   "pygments_lexer": "ipython3",
   "version": "3.7.6"
  }
 },
 "nbformat": 4,
 "nbformat_minor": 4
}
