{
 "cells": [
  {
   "cell_type": "code",
   "execution_count": 1,
   "metadata": {},
   "outputs": [],
   "source": [
    "import pandas as pd\n",
    "import dask.dataframe as dd\n",
    "import numpy as np"
   ]
  },
  {
   "cell_type": "code",
   "execution_count": 2,
   "metadata": {},
   "outputs": [],
   "source": [
    "pandas_df = pd.read_pickle(\"./raw_weekly_df.pkl\")\n",
    "dask_df = dd.from_pandas(pandas_df, npartitions=8)"
   ]
  },
  {
   "cell_type": "code",
   "execution_count": 3,
   "metadata": {},
   "outputs": [
    {
     "name": "stdout",
     "output_type": "stream",
     "text": [
      "   dept_id cat_id      item_id state_id store_id   datetime  sales\n",
      "0  FOODS_1  FOODS  FOODS_1_001       CA     CA_1 2011-01-31    3.0\n",
      "1  FOODS_1  FOODS  FOODS_1_001       CA     CA_1 2011-02-07    9.0\n",
      "2  FOODS_1  FOODS  FOODS_1_001       CA     CA_1 2011-02-14    9.0\n",
      "3  FOODS_1  FOODS  FOODS_1_001       CA     CA_1 2011-02-21    8.0\n",
      "4  FOODS_1  FOODS  FOODS_1_001       CA     CA_1 2011-02-28   14.0\n"
     ]
    }
   ],
   "source": [
    "print(pandas_df.head())"
   ]
  },
  {
   "cell_type": "code",
   "execution_count": 4,
   "metadata": {},
   "outputs": [],
   "source": [
    "def standardize(a):\n",
    "  astd = np.std(a)\n",
    "  mean = a.mean()\n",
    "  a -= a.mean()\n",
    "  a /= astd\n",
    "  return a,mean,astd"
   ]
  },
  {
   "cell_type": "code",
   "execution_count": 5,
   "metadata": {},
   "outputs": [],
   "source": [
    "#Unstandarizes a series, given it's mean and std.\n",
    "def unstandardize(a,mean,astd):\n",
    "    a = a*astd\n",
    "    a = a + mean\n",
    "    return a"
   ]
  },
  {
   "cell_type": "code",
   "execution_count": 6,
   "metadata": {},
   "outputs": [
    {
     "name": "stdout",
     "output_type": "stream",
     "text": [
      "0     3.0\n",
      "1     9.0\n",
      "2     9.0\n",
      "3     8.0\n",
      "4    14.0\n",
      "Name: sales, dtype: float32\n"
     ]
    }
   ],
   "source": [
    "print(pandas_df['sales'].head())"
   ]
  },
  {
   "cell_type": "code",
   "execution_count": 7,
   "metadata": {},
   "outputs": [
    {
     "name": "stdout",
     "output_type": "stream",
     "text": [
      "0         -0.259046\n",
      "1         -0.020909\n",
      "2         -0.020909\n",
      "3         -0.060599\n",
      "4          0.177539\n",
      "             ...   \n",
      "6841116   -0.378115\n",
      "6841117   -0.378115\n",
      "6841118   -0.378115\n",
      "6841119   -0.378115\n",
      "6841120   -0.378115\n",
      "Name: sales, Length: 6841121, dtype: float32\n",
      "9.526814460754395\n",
      "25.195552825927734\n"
     ]
    }
   ],
   "source": [
    "b,mean,astd = standardize(pandas_df['sales'])\n",
    "print(b)\n",
    "print(mean)\n",
    "print(astd)"
   ]
  },
  {
   "cell_type": "code",
   "execution_count": 8,
   "metadata": {},
   "outputs": [
    {
     "name": "stdout",
     "output_type": "stream",
     "text": [
      "0     3.0\n",
      "1     9.0\n",
      "2     9.0\n",
      "3     8.0\n",
      "4    14.0\n",
      "Name: sales, dtype: float32\n"
     ]
    }
   ],
   "source": [
    "print(unstandardize(b,mean,astd).head())"
   ]
  }
 ],
 "metadata": {
  "kernelspec": {
   "display_name": "Python 3",
   "language": "python",
   "name": "python3"
  },
  "language_info": {
   "codemirror_mode": {
    "name": "ipython",
    "version": 3
   },
   "file_extension": ".py",
   "mimetype": "text/x-python",
   "name": "python",
   "nbconvert_exporter": "python",
   "pygments_lexer": "ipython3",
   "version": "3.7.6"
  }
 },
 "nbformat": 4,
 "nbformat_minor": 4
}
