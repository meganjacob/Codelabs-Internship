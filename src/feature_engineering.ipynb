{
 "cells": [
  {
   "cell_type": "code",
   "execution_count": 1,
   "metadata": {},
   "outputs": [],
   "source": [
    "import pandas as pd\n",
    "import dask.dataframe as dd\n",
    "import numpy as np"
   ]
  },
  {
   "cell_type": "code",
   "execution_count": 2,
   "metadata": {},
   "outputs": [],
   "source": [
    "pandas_df = pd.read_pickle(\"./raw_weekly_df.pkl\")\n",
    "dask_df = dd.from_pandas(pandas_df, npartitions=8)\n",
    "mean = 0\n",
    "std = 0"
   ]
  },
  {
   "cell_type": "code",
   "execution_count": 3,
   "metadata": {},
   "outputs": [
    {
     "name": "stdout",
     "output_type": "stream",
     "text": [
      "   dept_id cat_id      item_id state_id store_id   datetime  sales\n",
      "0  FOODS_1  FOODS  FOODS_1_001       CA     CA_1 2011-01-31    3.0\n",
      "1  FOODS_1  FOODS  FOODS_1_001       CA     CA_1 2011-02-07    9.0\n",
      "2  FOODS_1  FOODS  FOODS_1_001       CA     CA_1 2011-02-14    9.0\n",
      "3  FOODS_1  FOODS  FOODS_1_001       CA     CA_1 2011-02-21    8.0\n",
      "4  FOODS_1  FOODS  FOODS_1_001       CA     CA_1 2011-02-28   14.0\n"
     ]
    }
   ],
   "source": [
    "print(pandas_df.head())"
   ]
  },
  {
   "cell_type": "code",
   "execution_count": 4,
   "metadata": {},
   "outputs": [],
   "source": [
    "def standardize(input_ser):\n",
    "    input_std = np.std(input_ser)\n",
    "    input_mean = input_ser.mean()\n",
    "    global mean\n",
    "    global std\n",
    "    mean = input_mean\n",
    "    std = input_std\n",
    "    \n",
    "    return (input_ser-input_mean)/input_std"
   ]
  },
  {
   "cell_type": "code",
   "execution_count": 5,
   "metadata": {},
   "outputs": [],
   "source": [
    "#Unstandarizes a series, given it's mean and std.\n",
    "def unstandardize(ser):\n",
    "    return ser*std + mean"
   ]
  },
  {
   "cell_type": "code",
   "execution_count": 6,
   "metadata": {},
   "outputs": [
    {
     "name": "stdout",
     "output_type": "stream",
     "text": [
      "0     3.0\n",
      "1     9.0\n",
      "2     9.0\n",
      "3     8.0\n",
      "4    14.0\n",
      "Name: sales, dtype: float32\n"
     ]
    }
   ],
   "source": [
    "print(pandas_df['sales'].head())"
   ]
  },
  {
   "cell_type": "code",
   "execution_count": 7,
   "metadata": {},
   "outputs": [
    {
     "name": "stdout",
     "output_type": "stream",
     "text": [
      "0         -0.259046\n",
      "1         -0.020909\n",
      "2         -0.020909\n",
      "3         -0.060599\n",
      "4          0.177539\n",
      "             ...   \n",
      "6841116   -0.378115\n",
      "6841117   -0.378115\n",
      "6841118   -0.378115\n",
      "6841119   -0.378115\n",
      "6841120   -0.378115\n",
      "Name: sales, Length: 6841121, dtype: float32\n",
      "9.526814460754395\n",
      "25.195552825927734\n"
     ]
    }
   ],
   "source": [
    "b = standardize(pandas_df['sales'])\n",
    "print(b)\n",
    "print(mean)\n",
    "print(std)"
   ]
  },
  {
   "cell_type": "code",
   "execution_count": 8,
   "metadata": {},
   "outputs": [
    {
     "name": "stdout",
     "output_type": "stream",
     "text": [
      "0     3.0\n",
      "1     9.0\n",
      "2     9.0\n",
      "3     8.0\n",
      "4    14.0\n",
      "Name: sales, dtype: float32\n"
     ]
    }
   ],
   "source": [
    "print(unstandardize(b).head())"
   ]
  },
  {
   "cell_type": "code",
   "execution_count": 9,
   "metadata": {},
   "outputs": [],
   "source": [
    "def stat_feature(df,grouping,col):\n",
    "    #TODO copying dataframes doesn't scale well\n",
    "    \n",
    "    \n",
    "    #TODO instead of passing mean, min, and max, calculate them all at once using a single line of code and an \\\n",
    "    #  aggregate_dict param (hint: use .agg())\n",
    "    #TODO if we include the current row's data in an aggregate calculation, we'll \"leak\" data about the future when \\\n",
    "    # making predictions. shift your dataframe back one period  to avoid this issue\n",
    "    agg = df.groupby([grouping])[col].agg(['mean','min','max'])\n",
    "    cumsum = df.groupby([grouping])[col].shift(periods = 1).agg(['cumsum'])\n",
    "    return agg,cumsum "
   ]
  },
  {
   "cell_type": "code",
   "execution_count": 10,
   "metadata": {},
   "outputs": [
    {
     "name": "stdout",
     "output_type": "stream",
     "text": [
      "               mean  min          max\n",
      "state_id                             \n",
      "CA        10.585984  0.0  4220.000488\n",
      "TX         9.033415  0.0  1871.000122\n",
      "WI         8.882002  0.0  1755.000122\n",
      "             cumsum\n",
      "0               NaN\n",
      "1               3.0\n",
      "2              12.0\n",
      "3              21.0\n",
      "4              29.0\n",
      "...             ...\n",
      "6841116  65174088.0\n",
      "6841117  65174088.0\n",
      "6841118  65174088.0\n",
      "6841119  65174088.0\n",
      "6841120  65174088.0\n",
      "\n",
      "[6841121 rows x 1 columns]\n"
     ]
    }
   ],
   "source": [
    "agg,cumsum = stat_feature(pandas_df,'state_id','sales')\n",
    "print(agg)\n",
    "print(cumsum)"
   ]
  },
  {
   "cell_type": "code",
   "execution_count": 11,
   "metadata": {},
   "outputs": [],
   "source": [
    "def detrend_feature(df,grouping,col):\n",
    "    return df[col] - df[col].shift(periods=1)"
   ]
  },
  {
   "cell_type": "code",
   "execution_count": 12,
   "metadata": {},
   "outputs": [
    {
     "name": "stdout",
     "output_type": "stream",
     "text": [
      "0          NaN\n",
      "1          6.0\n",
      "2          0.0\n",
      "3         -1.0\n",
      "4          6.0\n",
      "          ... \n",
      "6841116    0.0\n",
      "6841117    0.0\n",
      "6841118    0.0\n",
      "6841119    0.0\n",
      "6841120    0.0\n",
      "Name: sales, Length: 6841121, dtype: float32\n"
     ]
    }
   ],
   "source": [
    "print(detrend_feature(pandas_df,'state_id','sales'))"
   ]
  }
 ],
 "metadata": {
  "kernelspec": {
   "display_name": "Python 3",
   "language": "python",
   "name": "python3"
  },
  "language_info": {
   "codemirror_mode": {
    "name": "ipython",
    "version": 3
   },
   "file_extension": ".py",
   "mimetype": "text/x-python",
   "name": "python",
   "nbconvert_exporter": "python",
   "pygments_lexer": "ipython3",
   "version": "3.7.6"
  }
 },
 "nbformat": 4,
 "nbformat_minor": 4
}
