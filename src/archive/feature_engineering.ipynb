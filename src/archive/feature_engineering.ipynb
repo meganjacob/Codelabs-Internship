{
 "cells": [
  {
   "cell_type": "code",
   "execution_count": 2,
   "metadata": {},
   "outputs": [],
   "source": [
    "import pandas as pd\n",
    "import dask.dataframe as dd\n",
    "import numpy as np"
   ]
  },
  {
   "cell_type": "code",
   "execution_count": 3,
   "metadata": {},
   "outputs": [],
   "source": [
    "pandas_df = pd.read_pickle(\"./raw_weekly_df.pkl\")\n",
    "dask_df = dd.from_pandas(pandas_df, npartitions=8)\n",
    "mean = 0\n",
    "std = 0"
   ]
  },
  {
   "cell_type": "code",
   "execution_count": 3,
   "metadata": {
    "scrolled": true
   },
   "outputs": [
    {
     "name": "stdout",
     "output_type": "stream",
     "text": [
      "   dept_id cat_id      item_id state_id store_id   datetime  sales\n",
      "0  FOODS_1  FOODS  FOODS_1_001       CA     CA_1 2011-01-31    3.0\n",
      "1  FOODS_1  FOODS  FOODS_1_001       CA     CA_1 2011-02-07    9.0\n",
      "2  FOODS_1  FOODS  FOODS_1_001       CA     CA_1 2011-02-14    9.0\n",
      "3  FOODS_1  FOODS  FOODS_1_001       CA     CA_1 2011-02-21    8.0\n",
      "4  FOODS_1  FOODS  FOODS_1_001       CA     CA_1 2011-02-28   14.0\n"
     ]
    }
   ],
   "source": [
    "print(pandas_df.head())"
   ]
  },
  {
   "cell_type": "code",
   "execution_count": 4,
   "metadata": {},
   "outputs": [],
   "source": [
    "def standardize(input_ser):\n",
    "    input_std = np.std(input_ser)\n",
    "    input_mean = input_ser.mean()\n",
    "    global mean\n",
    "    global std\n",
    "    mean = input_mean\n",
    "    std = input_std\n",
    "    \n",
    "    return (input_ser-input_mean)/input_std"
   ]
  },
  {
   "cell_type": "code",
   "execution_count": 5,
   "metadata": {},
   "outputs": [],
   "source": [
    "#Unstandarizes a series, given it's mean and std.\n",
    "def unstandardize(ser):\n",
    "    return ser*std + mean"
   ]
  },
  {
   "cell_type": "code",
   "execution_count": 6,
   "metadata": {},
   "outputs": [
    {
     "name": "stdout",
     "output_type": "stream",
     "text": [
      "0     3.0\n",
      "1     9.0\n",
      "2     9.0\n",
      "3     8.0\n",
      "4    14.0\n",
      "Name: sales, dtype: float32\n"
     ]
    }
   ],
   "source": [
    "print(pandas_df['sales'].head())"
   ]
  },
  {
   "cell_type": "code",
   "execution_count": 7,
   "metadata": {},
   "outputs": [
    {
     "name": "stdout",
     "output_type": "stream",
     "text": [
      "0         -0.259046\n",
      "1         -0.020909\n",
      "2         -0.020909\n",
      "3         -0.060599\n",
      "4          0.177539\n",
      "             ...   \n",
      "6841116   -0.378115\n",
      "6841117   -0.378115\n",
      "6841118   -0.378115\n",
      "6841119   -0.378115\n",
      "6841120   -0.378115\n",
      "Name: sales, Length: 6841121, dtype: float32\n",
      "9.526814460754395\n",
      "25.195552825927734\n"
     ]
    }
   ],
   "source": [
    "b = standardize(pandas_df['sales'])\n",
    "print(b)\n",
    "print(mean)\n",
    "print(std)"
   ]
  },
  {
   "cell_type": "code",
   "execution_count": 8,
   "metadata": {},
   "outputs": [
    {
     "name": "stdout",
     "output_type": "stream",
     "text": [
      "0     3.0\n",
      "1     9.0\n",
      "2     9.0\n",
      "3     8.0\n",
      "4    14.0\n",
      "Name: sales, dtype: float32\n"
     ]
    }
   ],
   "source": [
    "print(unstandardize(b).head())"
   ]
  },
  {
   "cell_type": "code",
   "execution_count": 9,
   "metadata": {},
   "outputs": [],
   "source": [
    "def stat_feature(df,grouping,col):\n",
    "    #TODO copying dataframes doesn't scale well\n",
    "    \n",
    "    \n",
    "    #TODO instead of passing mean, min, and max, calculate them all at once using a single line of code and an \\\n",
    "    #  aggregate_dict param (hint: use .agg())\n",
    "    #TODO if we include the current row's data in an aggregate calculation, we'll \"leak\" data about the future when \\\n",
    "    # making predictions. shift your dataframe back one period  to avoid this issue\n",
    "    agg = df.groupby([grouping])[col].agg(['mean','min','max'])\n",
    "    cumsum = df.groupby([grouping])[col].shift(periods = 1).agg(['cumsum'])\n",
    "    return agg,cumsum "
   ]
  },
  {
   "cell_type": "code",
   "execution_count": 10,
   "metadata": {},
   "outputs": [
    {
     "name": "stdout",
     "output_type": "stream",
     "text": [
      "               mean  min          max\n",
      "state_id                             \n",
      "CA        10.585984  0.0  4220.000488\n",
      "TX         9.033415  0.0  1871.000122\n",
      "WI         8.882002  0.0  1755.000122\n",
      "             cumsum\n",
      "0               NaN\n",
      "1               3.0\n",
      "2              12.0\n",
      "3              21.0\n",
      "4              29.0\n",
      "...             ...\n",
      "6841116  65174088.0\n",
      "6841117  65174088.0\n",
      "6841118  65174088.0\n",
      "6841119  65174088.0\n",
      "6841120  65174088.0\n",
      "\n",
      "[6841121 rows x 1 columns]\n"
     ]
    }
   ],
   "source": [
    "agg,cumsum = stat_feature(pandas_df,'state_id','sales')\n",
    "print(agg)\n",
    "print(cumsum)"
   ]
  },
  {
   "cell_type": "code",
   "execution_count": 11,
   "metadata": {},
   "outputs": [],
   "source": [
    "def detrend_feature(df,grouping,col):\n",
    "    return df[col] - df[col].shift(periods=1)"
   ]
  },
  {
   "cell_type": "code",
   "execution_count": 12,
   "metadata": {},
   "outputs": [
    {
     "name": "stdout",
     "output_type": "stream",
     "text": [
      "0          NaN\n",
      "1          6.0\n",
      "2          0.0\n",
      "3         -1.0\n",
      "4          6.0\n",
      "          ... \n",
      "6841116    0.0\n",
      "6841117    0.0\n",
      "6841118    0.0\n",
      "6841119    0.0\n",
      "6841120    0.0\n",
      "Name: sales, Length: 6841121, dtype: float32\n"
     ]
    }
   ],
   "source": [
    "print(detrend_feature(pandas_df,'state_id','sales'))"
   ]
  },
  {
   "cell_type": "code",
   "execution_count": 36,
   "metadata": {},
   "outputs": [],
   "source": [
    "def month_feature(dataframeinput):\n",
    "    return dataframeinput['datetime'].dt.month"
   ]
  },
  {
   "cell_type": "code",
   "execution_count": 37,
   "metadata": {},
   "outputs": [
    {
     "data": {
      "text/plain": [
       "0          1\n",
       "1          2\n",
       "2          2\n",
       "3          2\n",
       "4          2\n",
       "          ..\n",
       "6841116    5\n",
       "6841117    5\n",
       "6841118    6\n",
       "6841119    6\n",
       "6841120    6\n",
       "Name: datetime, Length: 6841121, dtype: int64"
      ]
     },
     "execution_count": 37,
     "metadata": {},
     "output_type": "execute_result"
    }
   ],
   "source": [
    "month_feature(pandas_df)"
   ]
  },
  {
   "cell_type": "code",
   "execution_count": 10,
   "metadata": {},
   "outputs": [],
   "source": [
    "def quarter_feature(dataframeinput):\n",
    "    return dataframeinput['datetime'].dt.quarter\n",
    "    #January-March = 1, April-June = 2, etc."
   ]
  },
  {
   "cell_type": "code",
   "execution_count": 11,
   "metadata": {},
   "outputs": [
    {
     "data": {
      "text/plain": [
       "0          1\n",
       "1          1\n",
       "2          1\n",
       "3          1\n",
       "4          1\n",
       "          ..\n",
       "6841116    2\n",
       "6841117    2\n",
       "6841118    2\n",
       "6841119    2\n",
       "6841120    2\n",
       "Name: datetime, Length: 6841121, dtype: int64"
      ]
     },
     "execution_count": 11,
     "metadata": {},
     "output_type": "execute_result"
    }
   ],
   "source": [
    "quarter_feature(pandas_df)"
   ]
  },
  {
   "cell_type": "code",
   "execution_count": 12,
   "metadata": {},
   "outputs": [],
   "source": [
    "def week_of_year_feature(dataframeinput):\n",
    "    return dataframeinput['datetime'].dt.weekofyear"
   ]
  },
  {
   "cell_type": "code",
   "execution_count": 13,
   "metadata": {},
   "outputs": [
    {
     "data": {
      "text/plain": [
       "0           5\n",
       "1           6\n",
       "2           7\n",
       "3           8\n",
       "4           9\n",
       "           ..\n",
       "6841116    21\n",
       "6841117    22\n",
       "6841118    23\n",
       "6841119    24\n",
       "6841120    25\n",
       "Name: datetime, Length: 6841121, dtype: int64"
      ]
     },
     "execution_count": 13,
     "metadata": {},
     "output_type": "execute_result"
    }
   ],
   "source": [
    "week_of_year_feature(pandas_df)"
   ]
  },
  {
   "cell_type": "code",
   "execution_count": 14,
   "metadata": {},
   "outputs": [],
   "source": [
    "def day_of_week_feature(dataframeinput):\n",
    "    return dataframeinput['datetime'].dt.dayofweek"
   ]
  },
  {
   "cell_type": "code",
   "execution_count": 15,
   "metadata": {},
   "outputs": [
    {
     "data": {
      "text/plain": [
       "0          0\n",
       "1          0\n",
       "2          0\n",
       "3          0\n",
       "4          0\n",
       "          ..\n",
       "6841116    0\n",
       "6841117    0\n",
       "6841118    0\n",
       "6841119    0\n",
       "6841120    0\n",
       "Name: datetime, Length: 6841121, dtype: int64"
      ]
     },
     "execution_count": 15,
     "metadata": {},
     "output_type": "execute_result"
    }
   ],
   "source": [
    "day_of_week_feature(pandas_df)"
   ]
  },
  {
   "cell_type": "code",
   "execution_count": 38,
   "metadata": {},
   "outputs": [],
   "source": [
    "def month_year_feature(dataframeinput):\n",
    "    year = dataframeinput['datetime'].dt.year\n",
    "    month = month_feature(dataframeinput)\n",
    "    newdataframe = pd.DataFrame()\n",
    "    newdataframe['month'] = month\n",
    "    newdataframe['year'] = year\n",
    "    return(newdataframe)"
   ]
  },
  {
   "cell_type": "code",
   "execution_count": 39,
   "metadata": {},
   "outputs": [
    {
     "data": {
      "text/html": [
       "<div>\n",
       "<style scoped>\n",
       "    .dataframe tbody tr th:only-of-type {\n",
       "        vertical-align: middle;\n",
       "    }\n",
       "\n",
       "    .dataframe tbody tr th {\n",
       "        vertical-align: top;\n",
       "    }\n",
       "\n",
       "    .dataframe thead th {\n",
       "        text-align: right;\n",
       "    }\n",
       "</style>\n",
       "<table border=\"1\" class=\"dataframe\">\n",
       "  <thead>\n",
       "    <tr style=\"text-align: right;\">\n",
       "      <th></th>\n",
       "      <th>month</th>\n",
       "      <th>year</th>\n",
       "    </tr>\n",
       "  </thead>\n",
       "  <tbody>\n",
       "    <tr>\n",
       "      <th>0</th>\n",
       "      <td>1</td>\n",
       "      <td>2011</td>\n",
       "    </tr>\n",
       "    <tr>\n",
       "      <th>1</th>\n",
       "      <td>2</td>\n",
       "      <td>2011</td>\n",
       "    </tr>\n",
       "    <tr>\n",
       "      <th>2</th>\n",
       "      <td>2</td>\n",
       "      <td>2011</td>\n",
       "    </tr>\n",
       "    <tr>\n",
       "      <th>3</th>\n",
       "      <td>2</td>\n",
       "      <td>2011</td>\n",
       "    </tr>\n",
       "    <tr>\n",
       "      <th>4</th>\n",
       "      <td>2</td>\n",
       "      <td>2011</td>\n",
       "    </tr>\n",
       "    <tr>\n",
       "      <th>...</th>\n",
       "      <td>...</td>\n",
       "      <td>...</td>\n",
       "    </tr>\n",
       "    <tr>\n",
       "      <th>6841116</th>\n",
       "      <td>5</td>\n",
       "      <td>2016</td>\n",
       "    </tr>\n",
       "    <tr>\n",
       "      <th>6841117</th>\n",
       "      <td>5</td>\n",
       "      <td>2016</td>\n",
       "    </tr>\n",
       "    <tr>\n",
       "      <th>6841118</th>\n",
       "      <td>6</td>\n",
       "      <td>2016</td>\n",
       "    </tr>\n",
       "    <tr>\n",
       "      <th>6841119</th>\n",
       "      <td>6</td>\n",
       "      <td>2016</td>\n",
       "    </tr>\n",
       "    <tr>\n",
       "      <th>6841120</th>\n",
       "      <td>6</td>\n",
       "      <td>2016</td>\n",
       "    </tr>\n",
       "  </tbody>\n",
       "</table>\n",
       "<p>6841121 rows × 2 columns</p>\n",
       "</div>"
      ],
      "text/plain": [
       "         month  year\n",
       "0            1  2011\n",
       "1            2  2011\n",
       "2            2  2011\n",
       "3            2  2011\n",
       "4            2  2011\n",
       "...        ...   ...\n",
       "6841116      5  2016\n",
       "6841117      5  2016\n",
       "6841118      6  2016\n",
       "6841119      6  2016\n",
       "6841120      6  2016\n",
       "\n",
       "[6841121 rows x 2 columns]"
      ]
     },
     "execution_count": 39,
     "metadata": {},
     "output_type": "execute_result"
    }
   ],
   "source": [
    "month_year_feature(pandas_df)"
   ]
  },
  {
   "cell_type": "code",
   "execution_count": 28,
   "metadata": {},
   "outputs": [],
   "source": [
    "def semester_feature(dataframeinput):\n",
    "    dataframeinputcopy = dataframeinput\n",
    "    dataframeinputcopy['quarter'] = quarter_feature(dataframeinput)\n",
    "    dataframeinputcopy['semester'] = np.where(dataframeinputcopy.quarter.isin([1,2]),1,2)\n",
    "    return dataframeinputcopy[['datetime', 'semester']].head()"
   ]
  },
  {
   "cell_type": "code",
   "execution_count": 29,
   "metadata": {},
   "outputs": [
    {
     "data": {
      "text/html": [
       "<div>\n",
       "<style scoped>\n",
       "    .dataframe tbody tr th:only-of-type {\n",
       "        vertical-align: middle;\n",
       "    }\n",
       "\n",
       "    .dataframe tbody tr th {\n",
       "        vertical-align: top;\n",
       "    }\n",
       "\n",
       "    .dataframe thead th {\n",
       "        text-align: right;\n",
       "    }\n",
       "</style>\n",
       "<table border=\"1\" class=\"dataframe\">\n",
       "  <thead>\n",
       "    <tr style=\"text-align: right;\">\n",
       "      <th></th>\n",
       "      <th>datetime</th>\n",
       "      <th>semester</th>\n",
       "    </tr>\n",
       "  </thead>\n",
       "  <tbody>\n",
       "    <tr>\n",
       "      <th>0</th>\n",
       "      <td>2011-01-31</td>\n",
       "      <td>1</td>\n",
       "    </tr>\n",
       "    <tr>\n",
       "      <th>1</th>\n",
       "      <td>2011-02-07</td>\n",
       "      <td>1</td>\n",
       "    </tr>\n",
       "    <tr>\n",
       "      <th>2</th>\n",
       "      <td>2011-02-14</td>\n",
       "      <td>1</td>\n",
       "    </tr>\n",
       "    <tr>\n",
       "      <th>3</th>\n",
       "      <td>2011-02-21</td>\n",
       "      <td>1</td>\n",
       "    </tr>\n",
       "    <tr>\n",
       "      <th>4</th>\n",
       "      <td>2011-02-28</td>\n",
       "      <td>1</td>\n",
       "    </tr>\n",
       "  </tbody>\n",
       "</table>\n",
       "</div>"
      ],
      "text/plain": [
       "    datetime  semester\n",
       "0 2011-01-31         1\n",
       "1 2011-02-07         1\n",
       "2 2011-02-14         1\n",
       "3 2011-02-21         1\n",
       "4 2011-02-28         1"
      ]
     },
     "execution_count": 29,
     "metadata": {},
     "output_type": "execute_result"
    }
   ],
   "source": [
    "semester_feature(pandas_df)"
   ]
  },
  {
   "cell_type": "code",
   "execution_count": null,
   "metadata": {},
   "outputs": [],
   "source": []
  }
 ],
 "metadata": {
  "kernelspec": {
   "display_name": "Python 3",
   "language": "python",
   "name": "python3"
  },
  "language_info": {
   "codemirror_mode": {
    "name": "ipython",
    "version": 3
   },
   "file_extension": ".py",
   "mimetype": "text/x-python",
   "name": "python",
   "nbconvert_exporter": "python",
   "pygments_lexer": "ipython3",
   "version": "3.7.6"
  }
 },
 "nbformat": 4,
 "nbformat_minor": 4
}
