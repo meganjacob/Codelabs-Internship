{
 "cells": [
  {
   "cell_type": "code",
   "execution_count": 74,
   "metadata": {},
   "outputs": [],
   "source": [
    "import pandas as pd\n",
    "import dask.dataframe as dd\n",
    "import numpy as np\n",
    "import seaborn as sns\n"
   ]
  },
  {
   "cell_type": "code",
   "execution_count": 5,
   "metadata": {},
   "outputs": [],
   "source": [
    "pandas_df = pd.read_pickle(\"./raw_weekly_df.pkl\")\n",
    "dask_df = dd.from_pandas(pandas_df, npartitions=8)"
   ]
  },
  {
   "cell_type": "code",
   "execution_count": 6,
   "metadata": {},
   "outputs": [
    {
     "name": "stdout",
     "output_type": "stream",
     "text": [
      "<class 'pandas.core.frame.DataFrame'>\n",
      "RangeIndex: 6841121 entries, 0 to 6841120\n",
      "Data columns (total 7 columns):\n",
      " #   Column    Dtype         \n",
      "---  ------    -----         \n",
      " 0   dept_id   category      \n",
      " 1   cat_id    category      \n",
      " 2   item_id   category      \n",
      " 3   state_id  category      \n",
      " 4   store_id  category      \n",
      " 5   datetime  datetime64[ns]\n",
      " 6   sales     float32       \n",
      "dtypes: category(5), datetime64[ns](1), float32(1)\n",
      "memory usage: 117.5 MB\n"
     ]
    }
   ],
   "source": [
    "(pandas_df.info(memory_usage=\"Deep\"))"
   ]
  },
  {
   "cell_type": "code",
   "execution_count": 7,
   "metadata": {},
   "outputs": [
    {
     "data": {
      "text/plain": [
       "'\\nThe only place where we can save memory is potentially changing the float32 column to a less data intensive float \\ntype. Everything else is a category or datetime.\\n'"
      ]
     },
     "execution_count": 7,
     "metadata": {},
     "output_type": "execute_result"
    }
   ],
   "source": [
    "'''\n",
    "The only place where we can save memory is potentially changing the float32 column to a less data intensive float \n",
    "type. Everything else is a category or datetime.\n",
    "'''"
   ]
  },
  {
   "cell_type": "code",
   "execution_count": 8,
   "metadata": {},
   "outputs": [],
   "source": [
    "#Downcast in order to save memory\n",
    "#TODO comments added in .py\n",
    "def downcast(df):\n",
    "    cols = df.dtypes.index.tolist()\n",
    "    types = df.dtypes.values.tolist()\n",
    "    for i,t in enumerate(types):\n",
    "        if 'int' in str(t):\n",
    "            df[cols[i]] = pd.to_numeric(df[cols[i]], downcast='integer')\n",
    "        elif 'float' in str(t):\n",
    "            df[cols[i]] = pd.to_numeric(df[cols[i]], downcast='float')\n",
    "        elif t == np.object:\n",
    "            if cols[i] == 'date':\n",
    "                df[cols[i]] = pd.to_datetime(df[cols[i]], format='%Y-%m-%d')\n",
    "            else:\n",
    "                df[cols[i]] = df[cols[i]].astype('category')\n",
    "    return df "
   ]
  },
  {
   "cell_type": "code",
   "execution_count": 9,
   "metadata": {},
   "outputs": [
    {
     "data": {
      "text/plain": [
       "\"\\nThe above downcast won't actually help, since the only place where our data can save any memory is float, and \\nthe above method just downcasts it to a float32, which is already the case. But this could be useful for future \\ndatasets. \\n\""
      ]
     },
     "execution_count": 9,
     "metadata": {},
     "output_type": "execute_result"
    }
   ],
   "source": [
    "'''\n",
    "The above downcast won't actually help, since the only place where our data can save any memory is float, and \n",
    "the above method just downcasts it to a float32, which is already the case. But this could be useful for future \n",
    "datasets. \n",
    "'''"
   ]
  },
  {
   "cell_type": "code",
   "execution_count": 10,
   "metadata": {},
   "outputs": [
    {
     "name": "stdout",
     "output_type": "stream",
     "text": [
      "<class 'pandas.core.frame.DataFrame'>\n",
      "RangeIndex: 6841121 entries, 0 to 6841120\n",
      "Data columns (total 7 columns):\n",
      " #   Column    Dtype         \n",
      "---  ------    -----         \n",
      " 0   dept_id   category      \n",
      " 1   cat_id    category      \n",
      " 2   item_id   category      \n",
      " 3   state_id  category      \n",
      " 4   store_id  category      \n",
      " 5   datetime  datetime64[ns]\n",
      " 6   sales     float32       \n",
      "dtypes: category(5), datetime64[ns](1), float32(1)\n",
      "memory usage: 117.5 MB\n"
     ]
    }
   ],
   "source": [
    "downcast(pandas_df).info(memory_usage=\"Deep\")"
   ]
  },
  {
   "cell_type": "code",
   "execution_count": null,
   "metadata": {},
   "outputs": [],
   "source": [
    "#TODO when splitting up tasks in multiple functions, ask if it makes the code easier or harder to read. \n",
    "# IMO, these splits make the code harder to understand\n",
    "def get_dataframe_of_item_ids(dataframeinput):\n",
    "    #TODO can't assume 'item_id' can be hardcoded\n",
    "    x = (((dataframeinput[['item_id']]).drop_duplicates()))\n",
    "    newdataframe = pd.DataFrame(x)\n",
    "    return (newdataframe)\n",
    "\n",
    "#example = (get_dataframe_of_item_ids(pandas_df))\n",
    "\n",
    "\n",
    "def get_dataframe_of_store_ids(dataframeinput):\n",
    "    #TODO hard-coding\n",
    "    #TODO delete commented code\n",
    "    x = (((dataframeinput[['store_id']]).drop_duplicates()))\n",
    "    #newdataframe = pd.Dataframe(x)\n",
    "    return (x)\n",
    "\n",
    "\n",
    "def convert_dataframe_to_list(dataframe):\n",
    "    return (dataframe.values.tolist())\n",
    "#print(get_dataframe_of_store_ids(pandas_df))\n",
    "\n",
    "\n",
    "def find_item_and_store_combo(dataframe, store_id, item_id):\n",
    "    #TODO nice job on the descriptive variable names!\n",
    "    #TODO hardcoding\n",
    "    #TODO why cast to a dict only to cast it back to a dataframe? seems like there's a better way\n",
    "    x = (dataframe[(dataframe['store_id'] == store_id) & (dataframe['item_id'] == item_id)]).to_dict()\n",
    "    subsetdataframe = pd.DataFrame(x)\n",
    "    return(subsetdataframe)\n",
    "    \n",
    "    \n",
    "#I tried upsampling in order to find the weeks that are missing by adding those rows in and filling them in with NaN\n",
    "#However, for some reason, after '2011-01-31' instead of '2011-02-07', it starts with '2011-02-06' so it throws it off\n",
    "#TODO can you show me screenshots of what you mean? the data was aggregated using W-MON format, maybe that will solve your issue\n",
    "#TODO don't hardcode things like date formats since they're likely to change\n",
    "#TODO don't need parentheses around return (minor style issue)\n",
    "def upsampling(dataframeinput):\n",
    "    return(dataframeinput.set_index('datetime').resample('w').asfreq())\n",
    "\n",
    "#TODO hardcoding\n",
    "def find_missing_weeks_for_specific_combo(dataframeinput):\n",
    "    return(dataframeinput[dataframeinput['dept_id'].isna()])\n",
    "\n",
    "\n",
    "#The following function is quite inefficient since it has quadratic runtime O(n^2), but I'm not sure how to fix this\n",
    "def find_missing_weeks_in_entire_dataframe(dataframe):\n",
    "    #TODO if you'll never use any of these functions again, define them within the scope of this function so they aren't hanging out in memory\n",
    "    dataframe_of_store_ids = get_dataframe_of_store_ids(dataframe)\n",
    "    store_ids = convert_dataframe_to_list(dataframe_of_store_ids)\n",
    "    dataframe_of_item_ids = get_dataframe_of_item_ids(dataframe)\n",
    "    item_ids = convert_dataframe_to_list(dataframe_of_item_ids)\n",
    "    \n",
    "    #TODO after you upsample and fill the missing rows with NaNs, you should be able to use .grouby(grouping_cols).count() to get the number of missing. no for-loops!\n",
    "    for store in store_ids:\n",
    "        store_id = ''.join(store)\n",
    "        print(store_id)\n",
    "        for item in item_ids:\n",
    "            item_id = ''.join(item)\n",
    "            print('helo')\n",
    "            print(item_id)\n",
    "            combo = (find_item_and_store_combo(pandadataframe, store_id, item_id))\n",
    "            print(combo)\n",
    "            #psampled = upsampling(combo)\n",
    "            #mssing_weeks = find_missing_weeks(upsampled)\n",
    "            #t([store_id, item_id, missing_weeks])\n",
    "            \n",
    "find_missing_weeks_in_entire_dataframe(pandadataframe)\n",
    "\n",
    "#The following is just for one specific combination of product and store which isn't super slow\n",
    "\"\"\"\n",
    "combo = find_item_and_store_combo(pandas_df, 'CA_1', 'FOODS_1_001')\n",
    "upsamplingresult = upsampling(combo)\n",
    "\n",
    "\n",
    "for item in example.values.tolist():\n",
    "    print((''.join(item))=='FOODS_1_001')\n",
    "    item_id = ''.join(item)\n",
    "    combo = (find_item_and_store_combo(pandas_df, 'CA_1', item_id))\n",
    "    upsampled = upsampling(combo)\n",
    "    missing_weeks = find_missing_weeks(upsampled)\n",
    "    print(['CA_1', item_id, missing_weeks])\n",
    "    \n",
    "\"\"\""
   ]
  },
  {
   "cell_type": "code",
   "execution_count": null,
   "metadata": {},
   "outputs": [],
   "source": []
  },
  {
   "cell_type": "code",
   "execution_count": 73,
   "metadata": {
    "scrolled": true
   },
   "outputs": [
    {
     "data": {
      "text/plain": [
       "'\\nsales_series = pandas_df[\\'sales\\']\\nmax_sale = sales_series.max()\\nprint(max_sale)\\nax = pandas_df.hist(column=\\'sales\\', by=\"state_id\",bins=100, figsize=(12,8), range=[0,50])\\n'"
      ]
     },
     "execution_count": 73,
     "metadata": {},
     "output_type": "execute_result"
    },
    {
     "data": {
      "image/png": "[encoded data removed]",
      "text/plain": [
       "<Figure size 864x576 with 1 Axes>"
      ]
     },
     "metadata": {
      "needs_background": "light"
     },
     "output_type": "display_data"
    },
    {
     "data": {
      "image/png": "[encoded data removed]",
      "text/plain": [
       "<Figure size 864x576 with 4 Axes>"
      ]
     },
     "metadata": {
      "needs_background": "light"
     },
     "output_type": "display_data"
    },
    {
     "data": {
      "image/png": "[encoded data removed]",
      "text/plain": [
       "<Figure size 864x576 with 12 Axes>"
      ]
     },
     "metadata": {
      "needs_background": "light"
     },
     "output_type": "display_data"
    }
   ],
   "source": [
    "#TODO move all graphing functions to /src/exploration.py\n",
    "#TODO nice job with the graphs! now tell me how to interpret them (what insights can you glean from what's shown below?)\n",
    "def univariate_sales_histogram(pandadataframe):\n",
    "    sales_series = pandadataframe['sales']\n",
    "    max_sale = sales_series.max()\n",
    "    (pandadataframe.hist(column='sales',bins=100, figsize=(12,8), range=[0,50]))\n",
    "    \n",
    "def bivariate_sales_by_state(pandadataframe):\n",
    "    sales_series = pandadataframe['sales']\n",
    "    max_sale = sales_series.max()\n",
    "    pandadataframe.hist(column='sales', by=\"state_id\",bins=100, figsize=(12,8), range=[0,50])\n",
    "\n",
    "def bivariate_sales_by_store(pandadataframe):\n",
    "    sales_series = pandadataframe['sales']\n",
    "    max_sale = sales_series.max()\n",
    "    pandadataframe.hist(column='sales', by=\"store_id\",bins=100, figsize=(12,8), range=[0,50])\n",
    "\n",
    "univariate_sales_histogram(pandas_df)\n",
    "bivariate_sales_by_state(pandas_df)\n",
    "bivariate_sales_by_store(pandas_df)\n",
    "\n",
    "\"\"\"\n",
    "sales_series = pandas_df['sales']\n",
    "max_sale = sales_series.max()\n",
    "print(max_sale)\n",
    "ax = pandas_df.hist(column='sales', by=\"state_id\",bins=100, figsize=(12,8), range=[0,50])\n",
    "\"\"\""
   ]
  },
  {
   "cell_type": "code",
   "execution_count": null,
   "metadata": {},
   "outputs": [],
   "source": []
  },
  {
   "cell_type": "code",
   "execution_count": null,
   "metadata": {},
   "outputs": [],
   "source": []
  }
 ],
 "metadata": {
  "kernelspec": {
   "display_name": "Python 3",
   "language": "python",
   "name": "python3"
  },
  "language_info": {
   "codemirror_mode": {
    "name": "ipython",
    "version": 3
   },
   "file_extension": ".py",
   "mimetype": "text/x-python",
   "name": "python",
   "nbconvert_exporter": "python",
   "pygments_lexer": "ipython3",
   "version": "3.7.6"
  }
 },
 "nbformat": 4,
 "nbformat_minor": 4
}