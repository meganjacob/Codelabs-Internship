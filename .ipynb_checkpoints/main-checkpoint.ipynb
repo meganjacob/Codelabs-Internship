{
 "cells": [
  {
   "cell_type": "markdown",
   "metadata": {},
   "source": [
    "# Introduction\n",
    "\n",
    "TODO:\n",
    "- Frame the business problem (why we care) and 3-5 potential use cases for this technology in the retail sector\n",
    "- Define success in terms of 1-2 specific metrics (recommend using MAPE and RMSE)\n",
    "- Provide a high-level overview of your approach\n",
    "- Write a high-level overview of your data\n",
    "    - Where it came from\n",
    "    - How it was collected\n",
    "    - Potential biases it may have\n",
    "- When you're all finished, write a 1-paragraph executive summary for this engagement"
   ]
  },
  {
   "cell_type": "markdown",
   "metadata": {},
   "source": [
    "# Import\n",
    "\n",
    "TODO:\n",
    "- Load pkl into a dask dataframe for parallelized processing\n",
    "- Print .head() and .summary()\n",
    "\n",
    "OPTIONAL:\n",
    "- Distributively process your code using dask. See here: https://docs.dask.org/en/latest/setup/cloud.html"
   ]
  },
  {
   "cell_type": "code",
   "execution_count": 2,
   "metadata": {},
   "outputs": [],
   "source": [
    "import pandas as pd\n",
    "import numpy as np\n",
    "import dask.dataframe as dd\n",
    "\n",
    "import seaborn as sns\n",
    "\n",
    "import xgboost as xgb\n",
    "import lightgbm as lgb\n",
    "\n",
    "import shap\n",
    "\n",
    "pandas_df = pd.read_pickle(\"./data/raw_weekly_df.pkl\")\n",
    "dask_df = dd.from_pandas(pandas_df, npartitions=8)"
   ]
  },
  {
   "cell_type": "code",
   "execution_count": 3,
   "metadata": {},
   "outputs": [
    {
     "name": "stdout",
     "output_type": "stream",
     "text": [
      "<class 'pandas.core.frame.DataFrame'>\n",
      "RangeIndex: 6841121 entries, 0 to 6841120\n",
      "Data columns (total 7 columns):\n",
      " #   Column    Dtype         \n",
      "---  ------    -----         \n",
      " 0   dept_id   category      \n",
      " 1   cat_id    category      \n",
      " 2   item_id   category      \n",
      " 3   state_id  category      \n",
      " 4   store_id  category      \n",
      " 5   datetime  datetime64[ns]\n",
      " 6   sales     float32       \n",
      "dtypes: category(5), datetime64[ns](1), float32(1)\n",
      "memory usage: 117.5 MB\n"
     ]
    }
   ],
   "source": [
    "(pandas_df.info(memory_usage=\"Deep\"))"
   ]
  },
  {
   "cell_type": "markdown",
   "metadata": {},
   "source": [
    "# Data Exploration & Transformation\n",
    "\n",
    "TODO:\n",
    "- Check for outliers and missing data\n",
    "- Check for duplicates\n",
    "- Check datatypes and comment on whether they make sense\n",
    "- Plot univariate / bivariate graphs to better understand your data, especially for your target variable, in seaborn\n",
    "- Standardize, normalize, or log your target variable\n",
    "- Split your data into training, testing, and holdout sets and explain why this step is important"
   ]
  },
  {
   "cell_type": "code",
   "execution_count": 5,
   "metadata": {},
   "outputs": [
    {
     "data": {
      "text/plain": [
       "0          False\n",
       "1          False\n",
       "2          False\n",
       "3          False\n",
       "4          False\n",
       "           ...  \n",
       "6841116    False\n",
       "6841117    False\n",
       "6841118    False\n",
       "6841119    False\n",
       "6841120    False\n",
       "Length: 6841121, dtype: bool"
      ]
     },
     "execution_count": 5,
     "metadata": {},
     "output_type": "execute_result"
    }
   ],
   "source": [
    "pandas_df.duplicated()"
   ]
  },
  {
   "cell_type": "markdown",
   "metadata": {},
   "source": [
    "- shows that none of the rows are duplicated"
   ]
  },
  {
   "cell_type": "code",
   "execution_count": 6,
   "metadata": {},
   "outputs": [
    {
     "data": {
      "text/html": [
       "<div>\n",
       "<style scoped>\n",
       "    .dataframe tbody tr th:only-of-type {\n",
       "        vertical-align: middle;\n",
       "    }\n",
       "\n",
       "    .dataframe tbody tr th {\n",
       "        vertical-align: top;\n",
       "    }\n",
       "\n",
       "    .dataframe thead th {\n",
       "        text-align: right;\n",
       "    }\n",
       "</style>\n",
       "<table border=\"1\" class=\"dataframe\">\n",
       "  <thead>\n",
       "    <tr style=\"text-align: right;\">\n",
       "      <th></th>\n",
       "      <th>dept_id</th>\n",
       "      <th>cat_id</th>\n",
       "      <th>item_id</th>\n",
       "      <th>state_id</th>\n",
       "      <th>store_id</th>\n",
       "      <th>datetime</th>\n",
       "      <th>sales</th>\n",
       "    </tr>\n",
       "  </thead>\n",
       "  <tbody>\n",
       "  </tbody>\n",
       "</table>\n",
       "</div>"
      ],
      "text/plain": [
       "Empty DataFrame\n",
       "Columns: [dept_id, cat_id, item_id, state_id, store_id, datetime, sales]\n",
       "Index: []"
      ]
     },
     "execution_count": 6,
     "metadata": {},
     "output_type": "execute_result"
    }
   ],
   "source": [
    "pandas_df.loc[pandas_df.duplicated() != False]"
   ]
  },
  {
   "cell_type": "markdown",
   "metadata": {},
   "source": [
    " - 6841121 cells of data are in the data set\n",
    " - the mean of the sales from all pieces of data is 9.60301\n",
    " - the range of the sales from the data is 0 to 4220\n",
    " - the distribution of the data shows 25% of the sales data having a value below 0, 50% of the sales data having a value below 3 (median), and 75% of the sales data having a value below 9\n",
    " - the sales data is skewed right since the mean is greater than the median"
   ]
  },
  {
   "cell_type": "code",
   "execution_count": 7,
   "metadata": {},
   "outputs": [
    {
     "data": {
      "text/html": [
       "<div>\n",
       "<style scoped>\n",
       "    .dataframe tbody tr th:only-of-type {\n",
       "        vertical-align: middle;\n",
       "    }\n",
       "\n",
       "    .dataframe tbody tr th {\n",
       "        vertical-align: top;\n",
       "    }\n",
       "\n",
       "    .dataframe thead th {\n",
       "        text-align: right;\n",
       "    }\n",
       "</style>\n",
       "<table border=\"1\" class=\"dataframe\">\n",
       "  <thead>\n",
       "    <tr style=\"text-align: right;\">\n",
       "      <th></th>\n",
       "      <th>sales</th>\n",
       "    </tr>\n",
       "  </thead>\n",
       "  <tbody>\n",
       "    <tr>\n",
       "      <th>count</th>\n",
       "      <td>6.841121e+06</td>\n",
       "    </tr>\n",
       "    <tr>\n",
       "      <th>mean</th>\n",
       "      <td>9.603010e+00</td>\n",
       "    </tr>\n",
       "    <tr>\n",
       "      <th>std</th>\n",
       "      <td>2.584863e+01</td>\n",
       "    </tr>\n",
       "    <tr>\n",
       "      <th>min</th>\n",
       "      <td>0.000000e+00</td>\n",
       "    </tr>\n",
       "    <tr>\n",
       "      <th>25%</th>\n",
       "      <td>0.000000e+00</td>\n",
       "    </tr>\n",
       "    <tr>\n",
       "      <th>50%</th>\n",
       "      <td>3.000000e+00</td>\n",
       "    </tr>\n",
       "    <tr>\n",
       "      <th>75%</th>\n",
       "      <td>9.000000e+00</td>\n",
       "    </tr>\n",
       "    <tr>\n",
       "      <th>max</th>\n",
       "      <td>4.220000e+03</td>\n",
       "    </tr>\n",
       "  </tbody>\n",
       "</table>\n",
       "</div>"
      ],
      "text/plain": [
       "              sales\n",
       "count  6.841121e+06\n",
       "mean   9.603010e+00\n",
       "std    2.584863e+01\n",
       "min    0.000000e+00\n",
       "25%    0.000000e+00\n",
       "50%    3.000000e+00\n",
       "75%    9.000000e+00\n",
       "max    4.220000e+03"
      ]
     },
     "execution_count": 7,
     "metadata": {},
     "output_type": "execute_result"
    }
   ],
   "source": [
    "pandas_df.describe()"
   ]
  },
  {
   "cell_type": "markdown",
   "metadata": {},
   "source": [
    "# Feature Engineering\n",
    "\n",
    "TODO:\n",
    "- Discretize any categorical features\n",
    "- Develop 3+ new time-related features and 3+ new product-related features as functions in a script called 'feature_engineering.py' in ./src\n",
    "    - Time-related features: MonthYear, holiday flags, etc.\n",
    "    - Product-related features: average number of items sold per month in each store (frequency), last time product sold in the store (recency), etc. "
   ]
  },
  {
   "cell_type": "markdown",
   "metadata": {},
   "source": [
    "# Modeling\n",
    "\n",
    "TODO: \n",
    "- Write a function to run your lightgbm and xgboost models on your training data and output your in-sample and out-of-sample error RMSE and MAPE\n",
    "- Use your function to 'tune' both algorithms by passing in different combinations of hyperparameters (max depth, subsampling, etc.) to optimize for OOS RMSE\n",
    "- Plot your OOS RMSE on the y-axis and your various hyperparameter combinations on the x-axis to select the best combination\n",
    "- Retrain your models on your train + test data and measure your IS and OOS error metrics on your holdout data \n",
    "\n",
    "OPTIONAL:\n",
    "- Validate that your results are accurate using k-fold cross-validation. Note that this step is extremely important, but can be time-intensive; including it here as optional to be conscious of our time constraints."
   ]
  },
  {
   "cell_type": "markdown",
   "metadata": {},
   "source": [
    "# Interpretation\n",
    "\n",
    "TODO:\n",
    "- Create a SHAP plot for our best model and interpret its results\n"
   ]
  }
 ],
 "metadata": {
  "kernelspec": {
   "display_name": "Python 3",
   "language": "python",
   "name": "python3"
  },
  "language_info": {
   "codemirror_mode": {
    "name": "ipython",
    "version": 3
   },
   "file_extension": ".py",
   "mimetype": "text/x-python",
   "name": "python",
   "nbconvert_exporter": "python",
   "pygments_lexer": "ipython3",
   "version": "3.7.6"
  }
 },
 "nbformat": 4,
 "nbformat_minor": 4
}
